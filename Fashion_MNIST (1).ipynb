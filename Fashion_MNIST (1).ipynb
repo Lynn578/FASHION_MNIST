{
  "cells": [
    {
      "cell_type": "markdown",
      "metadata": {
        "id": "30c40pQjg6X9"
      },
      "source": [
        "###Fashion-MNIST\n",
        "   - **Description:** A dataset of Zalando's article images, intended as a drop-in replacement for the original MNIST dataset. It contains 70,000 28x28 grayscale images of 10 fashion categories.\n",
        "   - **Classes:** 10 (T-shirt/top, Trouser, Pullover, Dress, Coat, Sandal, Shirt, Sneaker, Bag, Ankle boot)\n",
        "\n",
        "---\n",
        "##Tasks\n",
        "\n",
        "- Train a CNN model using this dataset and finetune it to get above 70% accuracy\n",
        "- Make sure to use print statements where neccesary to monitor the training of your model"
      ]
    },
    {
      "cell_type": "code",
      "execution_count": null,
      "metadata": {
        "id": "okFiVyUceSri"
      },
      "outputs": [],
      "source": [
        "import tensorflow as tf\n",
        "from tensorflow.keras.models import Sequential\n",
        "from tensorflow.keras.layers import Conv2D, MaxPooling2D, Flatten, Dense, Dropout\n",
        "from tensorflow.keras.datasets import fashion_mnist\n",
        "from keras.utils import to_categorical\n",
        "import numpy as np\n",
        "\n"
      ]
    },
    {
      "cell_type": "code",
      "execution_count": null,
      "metadata": {
        "id": "XsUE-7h3rck9"
      },
      "outputs": [],
      "source": [
        "# Splitting the datasets\n",
        "(x_train, y_train), (x_test, y_test) = fashion_mnist.load_data()"
      ]
    },
    {
      "cell_type": "code",
      "execution_count": null,
      "metadata": {
        "id": "KjqJ1tCNr35Q"
      },
      "outputs": [],
      "source": [
        "# Normalize the images to the range of 0 to 1\n",
        "x_train=x_train.astype('float32')/255.0\n",
        "x_test=x_test.astype('float32')/255.0 #Benefits: Normalizing pixel values helps\n",
        " #improve the performance and stability of neural networks during training."
      ]
    },
    {
      "cell_type": "code",
      "execution_count": null,
      "metadata": {
        "id": "tl8a-6nok5di"
      },
      "outputs": [],
      "source": [
        "# One hot encorder\n",
        "y_train=to_categorical(y_train,10)\n",
        "y_test=to_categorical(y_test,10)\n",
        "# preparing targe data for training the neural network\n",
        "\n"
      ]
    },
    {
      "cell_type": "markdown",
      "metadata": {
        "id": "G5hI_pQBlZos"
      },
      "source": [
        "**Model Building**"
      ]
    },
    {
      "cell_type": "code",
      "execution_count": null,
      "metadata": {
        "id": "iPCfoY36lePZ"
      },
      "outputs": [],
      "source": [
        "model=Sequential()\n",
        "# initialize a sequential model in keras\n",
        "# allows creation of lnear stack layers\n",
        "# where you can add layers one by one to build neural network architecture\n",
        "#This line sets up the foundation for constructing your model by creating an empty container to which you will subsequently add the desired layers"
      ]
    },
    {
      "cell_type": "code",
      "execution_count": null,
      "metadata": {
        "id": "jGddI-fbmkS2"
      },
      "outputs": [],
      "source": [
        "#Convolution layer 1\n",
        "model.add(Conv2D(32,(3,3),activation='relu',input_shape=(28,28,1)))\n",
        "# 32 number of filters that passes through inputs to learn from it\n",
        "#(3,3)the size of the filters\n",
        "# activation relu introduces non liniearity to learn from the complexity of the model\n",
        "model.add(MaxPooling2D(2,2))\n",
        "# max pooling layer downsample the data to reduce number of parameters and computation\n",
        "#\n"
      ]
    },
    {
      "cell_type": "code",
      "execution_count": null,
      "metadata": {
        "id": "yKoFZyW4npUM"
      },
      "outputs": [],
      "source": [
        "# convolution layer 2\n",
        "model.add(Conv2D(64,(3,3),activation='relu'))\n",
        "model.add(MaxPooling2D(2,2))\n"
      ]
    },
    {
      "cell_type": "code",
      "execution_count": null,
      "metadata": {
        "id": "47oPnpkRnvbR"
      },
      "outputs": [],
      "source": [
        "# Convolutional Layer 3\n",
        "model.add(Conv2D(64, (3, 3), activation='relu'))"
      ]
    },
    {
      "cell_type": "code",
      "execution_count": null,
      "metadata": {
        "id": "XwT5hohXnzVr"
      },
      "outputs": [],
      "source": [
        "# flattening the results to feed into the dense layer\n",
        "model.add(Flatten()) #The Flatten layer reshapes the multi-dimensional output into a 1D array so it can be used as input to the dense layers"
      ]
    },
    {
      "cell_type": "code",
      "execution_count": null,
      "metadata": {
        "id": "qxpE3wDDn59w"
      },
      "outputs": [],
      "source": [
        "model.add(Dense(64, activation='relu'))\n",
        "model.add(Dropout(0.5)) # dropout for regulization preventing over fitting and improves model generalization ability\n",
        "model.add(Dense(10, activation='softmax')) # output Layer with 10 neurons\n",
        "#The 'softmax' activation function converts the raw output into probabilities, ensuring that the sum of probabilities for all classes equals 1."
      ]
    },
    {
      "cell_type": "code",
      "execution_count": null,
      "metadata": {
        "id": "IDvqMINgoFGt"
      },
      "outputs": [],
      "source": [
        "# compiling the model\n",
        "model.compile(optimizer='adam', # Adam optimizer this alogarithm for updating model weights during training to minimize loss function\n",
        "              loss='categorical_crossentropy',# it measures the difference between predicted proabilities and true labels\n",
        "              metrics=['accuracy'])"
      ]
    },
    {
      "cell_type": "markdown",
      "metadata": {
        "id": "fFcCzJLKopJV"
      },
      "source": [
        "**Training The Model**"
      ]
    },
    {
      "cell_type": "code",
      "execution_count": null,
      "metadata": {
        "colab": {
          "base_uri": "https://localhost:8080/"
        },
        "id": "pOFRbk7UoseX",
        "outputId": "47ea34e6-9e03-4b1b-d2aa-4e8ea2fa9942"
      },
      "outputs": [
        {
          "output_type": "stream",
          "name": "stdout",
          "text": [
            "Epoch 1/5\n",
            "750/750 [==============================] - 48s 61ms/step - loss: 0.7460 - accuracy: 0.7262 - val_loss: 0.4467 - val_accuracy: 0.8322\n",
            "Epoch 2/5\n",
            "750/750 [==============================] - 43s 57ms/step - loss: 0.4893 - accuracy: 0.8239 - val_loss: 0.3759 - val_accuracy: 0.8599\n",
            "Epoch 3/5\n",
            "750/750 [==============================] - 43s 57ms/step - loss: 0.4194 - accuracy: 0.8507 - val_loss: 0.3336 - val_accuracy: 0.8778\n",
            "Epoch 4/5\n",
            "750/750 [==============================] - 52s 69ms/step - loss: 0.3768 - accuracy: 0.8659 - val_loss: 0.3201 - val_accuracy: 0.8782\n",
            "Epoch 5/5\n",
            "750/750 [==============================] - 43s 57ms/step - loss: 0.3486 - accuracy: 0.8759 - val_loss: 0.3098 - val_accuracy: 0.8830\n"
          ]
        },
        {
          "output_type": "execute_result",
          "data": {
            "text/plain": [
              "<keras.src.callbacks.History at 0x7efdf2fc4b50>"
            ]
          },
          "metadata": {},
          "execution_count": 25
        }
      ],
      "source": [
        "# Train the model\n",
        "model.fit(x_train, y_train, epochs=5, batch_size=64, validation_split=0.2)"
      ]
    },
    {
      "cell_type": "markdown",
      "metadata": {
        "id": "-fCOMUAHoz3A"
      },
      "source": [
        "**Evaluatig the model**"
      ]
    },
    {
      "cell_type": "code",
      "execution_count": null,
      "metadata": {
        "colab": {
          "base_uri": "https://localhost:8080/"
        },
        "id": "42uReXp-owEE",
        "outputId": "a088cebb-0330-49e9-b707-ad50c8a9109e"
      },
      "outputs": [
        {
          "output_type": "stream",
          "name": "stdout",
          "text": [
            "313/313 [==============================] - 3s 9ms/step - loss: 0.3225 - accuracy: 0.8816\n",
            "Loss: 0.3224925398826599\n",
            "Accuracy: 0.881600022315979\n"
          ]
        }
      ],
      "source": [
        "# Evaluate the model\n",
        "loss,accuracy=model.evaluate(x_test,y_test)\n",
        "print(\"Loss:\",loss)\n",
        "print(\"Accuracy:\",accuracy)"
      ]
    }
  ],
  "metadata": {
    "colab": {
      "provenance": []
    },
    "kernelspec": {
      "display_name": "Python 3",
      "name": "python3"
    },
    "language_info": {
      "name": "python"
    }
  },
  "nbformat": 4,
  "nbformat_minor": 0
}